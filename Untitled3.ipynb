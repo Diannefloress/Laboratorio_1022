{
  "nbformat": 4,
  "nbformat_minor": 0,
  "metadata": {
    "colab": {
      "provenance": [],
      "toc_visible": true,
      "authorship_tag": "ABX9TyNkI3lhhpjjlOBCukG4oKKo",
      "include_colab_link": true
    },
    "kernelspec": {
      "name": "python3",
      "display_name": "Python 3"
    },
    "language_info": {
      "name": "python"
    }
  },
  "cells": [
    {
      "cell_type": "markdown",
      "metadata": {
        "id": "view-in-github",
        "colab_type": "text"
      },
      "source": [
        "<a href=\"https://colab.research.google.com/github/Diannefloress/Laboratorio_1022/blob/main/Untitled3.ipynb\" target=\"_parent\"><img src=\"https://colab.research.google.com/assets/colab-badge.svg\" alt=\"Open In Colab\"/></a>"
      ]
    },
    {
      "cell_type": "markdown",
      "source": [
        "# Nueva sección"
      ],
      "metadata": {
        "id": "CsluCFoJ7Epy"
      }
    },
    {
      "cell_type": "code",
      "source": [
        "# Importar libreria pandas y matploitlib\n",
        "import pandas as pd\n",
        "import matplotlib.pyplot as plt\n",
        "\n",
        "# Obtener url de archivo csv\n",
        "path=\"/atenciones_abogadas_de_las_mujeres (1).csv\"\n",
        "\n",
        "# Leer el CSV\n",
        "df=pd.read_csv(path)\n",
        "\n",
        "# Obtener la serie de datos df[\"usuaria_edad\"]\n",
        "edad=df[\"usuaria_edad\"]\n",
        "# Crear la distribución\n",
        "dist=edad.value_counts()\n",
        "# Crear el gráfico\n",
        "plt.bar(dist.index, dist.values)\n",
        "# Ajustar el eje x\n",
        "plt.xlim(0, 100)\n",
        "# Mostrar el gráfico\n",
        "plt.show()\n",
        "\n",
        "import pandas as pd\n",
        "import matplotlib.pyplot as plt\n",
        "\n",
        "#Obtener el url de archivo csv\n",
        "path=\"/atenciones_abogadas_de_las_mujeres (1).csv\"\n",
        "\n",
        "# Leer el CSV\n",
        "df= pd.read_csv(path)\n",
        "\n",
        "# Obtener el conteo de cada categoría\n",
        "conteo= df[\"usuaria_estado_civil\"].value_counts()\n",
        "\n",
        "# Crear el diagrama de barras\n",
        "plt.barh(conteo.index, conteo)\n",
        "\n",
        "# Graficar\n",
        "plt.show()\n",
        "\n",
        "import pandas as pd\n",
        "import matplotlib.pyplot as plt\n",
        "\n",
        "# Obtener url de archivo csv\n",
        "path=\"/atenciones_abogadas_de_las_mujeres (1).csv\"\n",
        "\n",
        "# Leer CSV\n",
        "df=pd.read_csv(path)\n",
        "\n",
        "# Obtener el conteo de cada categoría\n",
        "conteo=df[\"usuaria_estado_civil\"].value_counts()\n",
        "\n",
        "#Crear el diagrama de barras\n",
        "plt.barh(conteo.index, conteo)\n",
        "\n",
        "# Graficar\n",
        "plt.show()\n",
        "\n",
        "import pandas as pd\n",
        "import matplotlib.pyplot as plt\n",
        "\n",
        "path=\"/atenciones_abogadas_de_las_mujeres (1).csv\"\n",
        "\n",
        "# Crear un dataframe\n",
        "df= pd.read_csv(path)\n",
        "\n",
        "# Filtrado\n",
        "df_filtrado=df.query(\"usuaria_edad<=160\")\n",
        "print(df_filtrado[\"usuaria_edad\"])\n",
        "\n",
        "# Crear el diagrama de caja\n",
        "plt.boxplot(df_filtrado[\"usuaria_edad\"])\n",
        "\n",
        "# Mostrar el diagrama de caja\n",
        "plt.show()"
      ],
      "metadata": {
        "id": "E3m9MCnK8HiP"
      },
      "execution_count": null,
      "outputs": []
    }
  ]
}